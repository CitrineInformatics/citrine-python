{
 "cells": [
  {
   "cell_type": "code",
   "execution_count": 1,
   "metadata": {},
   "outputs": [],
   "source": [
    "%load_ext autoreload\n",
    "%autoreload 2"
   ]
  },
  {
   "cell_type": "code",
   "execution_count": 9,
   "metadata": {},
   "outputs": [],
   "source": [
    "\"\"\"Tests predictor collection\"\"\"\n",
    "import mock\n",
    "import pytest\n",
    "import uuid\n",
    "from copy import deepcopy\n",
    "\n",
    "from citrine.exceptions import ModuleRegistrationFailedException, NotFound\n",
    "from citrine.informatics.predictors import GraphPredictor, SimpleMLPredictor\n",
    "from citrine.resources.predictor import PredictorCollection\n"
   ]
  },
  {
   "cell_type": "code",
   "execution_count": 10,
   "metadata": {},
   "outputs": [],
   "source": [
    "from citrine.waiting.waiting import wait_while_executing, wait_while_validating"
   ]
  },
  {
   "cell_type": "code",
   "execution_count": 79,
   "metadata": {},
   "outputs": [
    {
     "name": "stdout",
     "output_type": "stream",
     "text": [
      "Status = VALID                    Elapsed time  = {str(int(time() - start_time)).rjust(3)}s\r"
     ]
    },
    {
     "data": {
      "text/plain": [
       "<Mock name='mock.get()' id='140296642024504'>"
      ]
     },
     "execution_count": 79,
     "metadata": {},
     "output_type": "execute_result"
    }
   ],
   "source": [
    "    collection = mock.Mock()\n",
    "    module = mock.Mock()\n",
    "    statuses = mock.PropertyMock(side_effect = [\"VALIDATING\", \"VALID\", \"VALID\"])\n",
    "    type(module).status = statuses\n",
    "    collection.get.return_value = module\n",
    "\n",
    "    wait_while_validating(collection, module)"
   ]
  },
  {
   "cell_type": "code",
   "execution_count": 75,
   "metadata": {},
   "outputs": [],
   "source": [
    "from time import time, sleep\n",
    "def _pretty_execution_status(status):\n",
    "    status_text = status.status\n",
    "    output_text = status_text if status_text != \"InProgress\" else \"In progress\"\n",
    "    return output_text\n",
    "\n",
    "\n",
    "def _print_execution_status(\n",
    "    status, start_time: float, line_end: str = \"\\r\"\n",
    "):\n",
    "    print(\n",
    "        \"Status = {:<25}Elapsed time\".format(_pretty_execution_status(status)),\n",
    "        \" = {}s\".format(str(int(time() - start_time)).rjust(3)),\n",
    "        end=line_end,\n",
    "    )"
   ]
  },
  {
   "cell_type": "code",
   "execution_count": 76,
   "metadata": {},
   "outputs": [
    {
     "name": "stdout",
     "output_type": "stream",
     "text": [
      "Status = Finished                 Elapsed time  =   3s\r"
     ]
    }
   ],
   "source": [
    "execution = workflow_execution\n",
    "timeout = 1800.0\n",
    "interval = 3.0\n",
    "\n",
    "def execution_is_finished():\n",
    "    status = execution.status()\n",
    "    _print_execution_status(status, start)\n",
    "    return not execution.status().in_progress\n",
    "\n",
    "start = time()\n",
    "\n",
    "while not execution_is_finished() and (time() - start < timeout):\n",
    "    sleep(interval)\n",
    "if not execution_is_finished():\n",
    "    msg = \"Timeout reached, but condition is still {}\".format(execution_is_finished())\n",
    "    raise ConditionTimeoutError(msg)"
   ]
  },
  {
   "cell_type": "code",
   "execution_count": null,
   "metadata": {},
   "outputs": [],
   "source": []
  },
  {
   "cell_type": "code",
   "execution_count": null,
   "metadata": {},
   "outputs": [],
   "source": []
  },
  {
   "cell_type": "code",
   "execution_count": null,
   "metadata": {},
   "outputs": [],
   "source": [
    "    def execution_is_finished():\n",
    "        status = execution.status()\n",
    "        _print_execution_status(status, start)\n",
    "        return not execution.status().in_progress\n",
    "\n",
    "    start = time()\n",
    "\n",
    "    while not execution_is_finished() and time() - start < timeout:\n",
    "        sleep(interval)\n",
    "    if not execution_is_finished():\n",
    "        msg = \"Timeout reached, but condition is still {}\".format(execution_is_finished())\n",
    "        raise ConditionTimeoutError(msg)"
   ]
  },
  {
   "cell_type": "code",
   "execution_count": null,
   "metadata": {},
   "outputs": [],
   "source": [
    "session = mock.Mock()\n",
    "session.post_resource.return_value = valid_simple_ml_predictor_data()\n",
    "session.get_resource.side_effect = [\n",
    "    validating_simple_ml_predictor_data(),\n",
    "    valid_simple_ml_predictor_data(),\n",
    "    valid_simple_ml_predictor_data(),\n",
    "    valid_simple_ml_predictor_data(),\n",
    "    valid_simple_ml_predictor_data(),\n",
    "    valid_simple_ml_predictor_data(),\n",
    "    valid_simple_ml_predictor_data(),\n",
    "    valid_simple_ml_predictor_data(),\n",
    "]\n",
    "\n",
    "pc = PredictorCollection(uuid.uuid4(), session)\n",
    "predictor = SimpleMLPredictor.build(valid_simple_ml_predictor_data())\n",
    "\n",
    "wait_while_validating(pc, predictor)\n"
   ]
  },
  {
   "cell_type": "code",
   "execution_count": null,
   "metadata": {},
   "outputs": [],
   "source": [
    "session.get_resource.call_args_list\n"
   ]
  },
  {
   "cell_type": "code",
   "execution_count": null,
   "metadata": {},
   "outputs": [],
   "source": []
  }
 ],
 "metadata": {
  "kernelspec": {
   "display_name": "Python 3",
   "language": "python",
   "name": "python3"
  },
  "language_info": {
   "codemirror_mode": {
    "name": "ipython",
    "version": 3
   },
   "file_extension": ".py",
   "mimetype": "text/x-python",
   "name": "python",
   "nbconvert_exporter": "python",
   "pygments_lexer": "ipython3",
   "version": "3.6.10"
  }
 },
 "nbformat": 4,
 "nbformat_minor": 2
}
