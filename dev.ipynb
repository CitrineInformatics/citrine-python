{
 "cells": [
  {
   "cell_type": "code",
   "execution_count": 70,
   "id": "79278b63",
   "metadata": {},
   "outputs": [
    {
     "name": "stdout",
     "output_type": "stream",
     "text": [
      "The autoreload extension is already loaded. To reload it, use:\n",
      "  %reload_ext autoreload\n"
     ]
    }
   ],
   "source": [
    "%load_ext autoreload\n",
    "%autoreload 2"
   ]
  },
  {
   "cell_type": "code",
   "execution_count": 71,
   "id": "46c2640a",
   "metadata": {},
   "outputs": [],
   "source": [
    "import os\n",
    "\n",
    "import citrine\n",
    "from citrine import Citrine\n",
    "\n",
    "from citrine.seeding.find_or_create import find_or_create_project, find_or_create_dataset\n",
    "from citrine.jobs.waiting import wait_while_validating, wait_while_executing"
   ]
  },
  {
   "cell_type": "markdown",
   "id": "ee22e824",
   "metadata": {},
   "source": [
    "# Testing"
   ]
  },
  {
   "cell_type": "markdown",
   "id": "4c4ec1d1",
   "metadata": {},
   "source": [
    "## AutoConfigure Workflow"
   ]
  },
  {
   "cell_type": "code",
   "execution_count": 90,
   "id": "4fea51af",
   "metadata": {},
   "outputs": [],
   "source": [
    "import warnings\n",
    "from itertools import islice\n",
    "\n",
    "from citrine.exceptions import Unauthorized, NotFound, CitrineException\n",
    "\n",
    "MAX_DATASETS = 50\n",
    "\n",
    "\n",
    "def _own_dataset(project, dataset) -> bool:\n",
    "    \"\"\"Only the 'owning' project can change acls, so try that to check ownership\"\"\"\n",
    "    try:\n",
    "        project.make_private(dataset)\n",
    "        return True\n",
    "    except Unauthorized:\n",
    "        return False\n",
    "\n",
    "\n",
    "def cleanup_contents(project, strict=False):\n",
    "    \"\"\"\n",
    "    Cleanup the contents of a project, inc modules, workflows, datasets but not GEM tables\n",
    "\n",
    "    :param project: to clean up\n",
    "    :param strict: whether to raise exceptions if a resource that should be deletable cannot be deleted\n",
    "    :return: whether the project was cleaned to the point that it can be safely deleted\n",
    "    \"\"\"\n",
    "    project_clean = True\n",
    "\n",
    "    # Note that these are implemented but currently soft deletes\n",
    "    for workflow in project.design_workflows.list():\n",
    "        project.design_workflows.archive(workflow.uid)\n",
    "\n",
    "    # Note that these are implemented but currently soft deletes\n",
    "    for module in project.modules.list():\n",
    "        project.modules.delete(module.uid)\n",
    "\n",
    "    # We still delete projects even if they contain undeleteable definitions and tables.\n",
    "    # From @djack:\n",
    "    # \"GEM tables cannot be deleted. I think orphaning them should be relatively safe to do.\"\n",
    "    #\n",
    "    # Don't delete projects that contain ara definitions or tables that are not deleteable yet\n",
    "    # for defn in project.table_configs.list():\n",
    "    #     # TODO delete table configs\n",
    "    #     pass\n",
    "\n",
    "    # Because data objects can depend on data objects from other datasets, we collect all of the\n",
    "    # data objects to delete, sort them by the opposite of their write order, try deleting them\n",
    "    # and then go back and delete the datasets that contained them\n",
    "\n",
    "    errs_to_raise = []\n",
    "    datasets_to_delete = []  # list of datasets to delete\n",
    "\n",
    "    for dataset in islice(project.datasets.list(), MAX_DATASETS):\n",
    "        dataset_clean = True\n",
    "\n",
    "        # Skip datasets that are owned by other projects\n",
    "        if not _own_dataset(project, dataset):\n",
    "            continue\n",
    "\n",
    "        # We don't block file deletion on references, so we can do this first\n",
    "        for file_link in dataset.files.list():\n",
    "            dataset.files.delete(file_link)\n",
    "\n",
    "        deletion_failures = dataset.delete_contents(polling_delay=0.25)\n",
    "        for (obj_id, failure) in deletion_failures:\n",
    "            if strict:\n",
    "                errs_to_raise.append(Exception(failure.message))\n",
    "\n",
    "            warnings.warn(f\"Failure in deleting GEMD Object while cleaning dataset: {dataset.uid}:\"\n",
    "                          f\" {failure.message}\")\n",
    "\n",
    "        # If we expect to clean the dataset, add it to the delete list\n",
    "        if len(deletion_failures) == 0:\n",
    "            datasets_to_delete.append(dataset)\n",
    "        else:\n",
    "            # If we cannot delete all the datasets, then don't delete the project\n",
    "            project_clean = False\n",
    "\n",
    "    for dataset in datasets_to_delete:\n",
    "        try:\n",
    "            project.datasets.delete(dataset.uid)\n",
    "        except CitrineException as err:\n",
    "            project_clean = False\n",
    "            if strict:\n",
    "                errs_to_raise.append(err)\n",
    "            else:\n",
    "                warnings.warn(\"Failed to delete {} with uid=\".format(dataset.name, dataset.uid), RuntimeWarning)\n",
    "\n",
    "    # Raise any collected errors\n",
    "    if len(errs_to_raise) > 0:\n",
    "        raise Exception(errs_to_raise)\n",
    "\n",
    "    return project_clean"
   ]
  },
  {
   "cell_type": "code",
   "execution_count": null,
   "id": "9e09c8c2",
   "metadata": {},
   "outputs": [],
   "source": []
  },
  {
   "cell_type": "code",
   "execution_count": null,
   "id": "e63dc04e",
   "metadata": {},
   "outputs": [],
   "source": []
  },
  {
   "cell_type": "code",
   "execution_count": 98,
   "id": "53a51079",
   "metadata": {},
   "outputs": [],
   "source": [
    "from citrine.informatics.predictor_evaluator import CrossValidationEvaluator\n",
    "from citrine.informatics.predictor_evaluation_metrics import RMSE, PVA\n",
    "from citrine.informatics.workflows import PredictorEvaluationWorkflow\n",
    "\n",
    "from citrine.builders.auto_configure import AutoConfigureWorkflow"
   ]
  },
  {
   "cell_type": "code",
   "execution_count": 99,
   "id": "ea19ea9e",
   "metadata": {},
   "outputs": [],
   "source": [
    "client = Citrine(host=os.environ['DEV_CITRINE_API_HOST'], api_key=os.environ['DEV_CITRINE_API_KEY'])\n",
    "\n",
    "project = client.projects.get('2e2b8001-6780-41af-88bd-df8a4d9fe59b')"
   ]
  },
  {
   "cell_type": "code",
   "execution_count": 67,
   "id": "94eaedd6",
   "metadata": {},
   "outputs": [],
   "source": [
    "auto_config = AutoConfigureWorkflow(project=project, name='Rosenbrock v14')"
   ]
  },
  {
   "cell_type": "code",
   "execution_count": 68,
   "id": "2233fb00",
   "metadata": {},
   "outputs": [],
   "source": [
    "predictor = project.predictors.get('883045d6-e092-423f-a1b1-70e9cdd6b39f')"
   ]
  },
  {
   "cell_type": "code",
   "execution_count": 69,
   "id": "302653cf",
   "metadata": {},
   "outputs": [
    {
     "name": "stdout",
     "output_type": "stream",
     "text": [
      "Configuring predictor evaluation workflow/execution...\n",
      "Status = SUCCEEDED                Elapsed time  =  74s\n",
      "Status info:\n",
      "['PredictorEvaluationWorkflow contains 1 evaluators.',\n",
      " 'Evaluator names are distinct.',\n",
      " 'At least 2 cross-validation folds requested.',\n",
      " 'At least one cross-validation trial requested.']\n"
     ]
    }
   ],
   "source": [
    "auto_config._predictor_evaluation_stage(predictor=predictor, evaluator=None, print_status_info=True)"
   ]
  },
  {
   "cell_type": "code",
   "execution_count": 65,
   "id": "90db80cd",
   "metadata": {},
   "outputs": [
    {
     "data": {
      "text/plain": [
       "<citrine.informatics.executions.predictor_evaluation_execution.PredictorEvaluationExecution at 0x7f9a5efe2df0>"
      ]
     },
     "execution_count": 65,
     "metadata": {},
     "output_type": "execute_result"
    }
   ],
   "source": [
    "auto_config.predictor_evaluation_execution"
   ]
  },
  {
   "cell_type": "code",
   "execution_count": null,
   "id": "c3a2c94b",
   "metadata": {},
   "outputs": [],
   "source": []
  }
 ],
 "metadata": {
  "kernelspec": {
   "display_name": "Python 3",
   "language": "python",
   "name": "python3"
  },
  "language_info": {
   "codemirror_mode": {
    "name": "ipython",
    "version": 3
   },
   "file_extension": ".py",
   "mimetype": "text/x-python",
   "name": "python",
   "nbconvert_exporter": "python",
   "pygments_lexer": "ipython3",
   "version": "3.8.10"
  }
 },
 "nbformat": 4,
 "nbformat_minor": 5
}
