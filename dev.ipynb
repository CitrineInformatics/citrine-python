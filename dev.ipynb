{
 "cells": [
  {
   "cell_type": "markdown",
   "id": "6d4e198f",
   "metadata": {},
   "source": [
    "# Imports"
   ]
  },
  {
   "cell_type": "code",
   "execution_count": 1,
   "id": "d66e3050",
   "metadata": {},
   "outputs": [],
   "source": [
    "%load_ext autoreload\n",
    "%autoreload 2"
   ]
  },
  {
   "cell_type": "code",
   "execution_count": 2,
   "id": "059572b9",
   "metadata": {},
   "outputs": [],
   "source": [
    "import os\n",
    "\n",
    "import citrine\n",
    "from citrine import Citrine"
   ]
  },
  {
   "cell_type": "markdown",
   "id": "45c9ef41",
   "metadata": {},
   "source": [
    "# Testing"
   ]
  },
  {
   "cell_type": "code",
   "execution_count": 36,
   "id": "ea5bfa34",
   "metadata": {},
   "outputs": [
    {
     "name": "stdout",
     "output_type": "stream",
     "text": [
      "{'project': {'id': 'ce47a13c-d873-452f-ac72-2ee82a29a9fa', 'name': '[PRELOAD] Seeding Project v33', 'description': '[PRELOAD] Seeding Project v33', 'created_at': '2022-06-30T19:54:34.085Z', 'team': {'id': 'd9687490-8fd9-4ed5-bd67-d4100fbf575d', 'name': '[PRELOAD] Seeding Project v33', 'description': '[PRELOAD] Seeding Project v33', 'created_at': '2022-06-30T19:54:33.980Z'}}}\n"
     ]
    },
    {
     "name": "stderr",
     "output_type": "stream",
     "text": [
      "/Users/sfriedowitz/Documents/citrine/citrine_python/src/citrine/citrine.py:67: UserWarning: Your Citrine Platform deployment has migrated to include the Teams release.See our FAQ for details.\n",
      "  warn(\"Your Citrine Platform deployment has migrated to include the Teams release.\"\n"
     ]
    },
    {
     "data": {
      "text/plain": [
       "'[PRELOAD] Seeding Project v33'"
      ]
     },
     "execution_count": 36,
     "metadata": {},
     "output_type": "execute_result"
    }
   ],
   "source": [
    "client = Citrine(host=os.environ[\"CITRINE_DEV_HOST\"], api_key=os.environ[\"CITRINE_DEV_API_KEY\"])\n",
    "\n",
    "project = client.projects.get(\"ce47a13c-d873-452f-ac72-2ee82a29a9fa\")\n",
    "project.name"
   ]
  },
  {
   "cell_type": "code",
   "execution_count": 55,
   "id": "1268c2bd",
   "metadata": {},
   "outputs": [],
   "source": [
    "from citrine.informatics.predictors import *"
   ]
  },
  {
   "cell_type": "code",
   "execution_count": 56,
   "id": "9277dc39",
   "metadata": {},
   "outputs": [],
   "source": [
    "graph = project.predictors.get(\"5c2f1b8b-b107-4985-8927-51a083dd3121\")"
   ]
  },
  {
   "cell_type": "code",
   "execution_count": 61,
   "id": "1c14bb7d",
   "metadata": {},
   "outputs": [
    {
     "ename": "ValueError",
     "evalue": "'dogs' is not a valid choice for enumeration <enum 'AutoMLEstimator'>",
     "output_type": "error",
     "traceback": [
      "\u001b[0;31m---------------------------------------------------------------------------\u001b[0m",
      "\u001b[0;31mValueError\u001b[0m                                Traceback (most recent call last)",
      "\u001b[0;32m/var/folders/vh/0_4v48m97gx_pwm6gkr6q8l40000gp/T/ipykernel_37927/1180671175.py\u001b[0m in \u001b[0;36m<module>\u001b[0;34m\u001b[0m\n\u001b[1;32m      1\u001b[0m \u001b[0mml\u001b[0m \u001b[0;34m=\u001b[0m \u001b[0mgraph\u001b[0m\u001b[0;34m.\u001b[0m\u001b[0mpredictors\u001b[0m\u001b[0;34m[\u001b[0m\u001b[0;36m0\u001b[0m\u001b[0;34m]\u001b[0m\u001b[0;34m\u001b[0m\u001b[0;34m\u001b[0m\u001b[0m\n\u001b[0;32m----> 2\u001b[0;31m \u001b[0maml\u001b[0m\u001b[0;34m.\u001b[0m\u001b[0mestimators\u001b[0m \u001b[0;34m=\u001b[0m \u001b[0;34m{\u001b[0m\u001b[0;34m\"dogs\"\u001b[0m\u001b[0;34m}\u001b[0m\u001b[0;34m\u001b[0m\u001b[0;34m\u001b[0m\u001b[0m\n\u001b[0m\u001b[1;32m      3\u001b[0m \u001b[0;34m\u001b[0m\u001b[0m\n\u001b[1;32m      4\u001b[0m \u001b[0maml\u001b[0m\u001b[0;34m.\u001b[0m\u001b[0mestimators\u001b[0m\u001b[0;34m\u001b[0m\u001b[0;34m\u001b[0m\u001b[0m\n",
      "\u001b[0;32m~/Documents/citrine/citrine_python/src/citrine/_serialization/properties.py\u001b[0m in \u001b[0;36m__set__\u001b[0;34m(self, obj, value)\u001b[0m\n\u001b[1;32m    153\u001b[0m         \u001b[0mbase_class\u001b[0m \u001b[0;34m=\u001b[0m \u001b[0m_get_base_class\u001b[0m\u001b[0;34m(\u001b[0m\u001b[0mobj\u001b[0m\u001b[0;34m,\u001b[0m \u001b[0mself\u001b[0m\u001b[0;34m.\u001b[0m\u001b[0mserialization_path\u001b[0m\u001b[0;34m)\u001b[0m\u001b[0;34m\u001b[0m\u001b[0;34m\u001b[0m\u001b[0m\n\u001b[1;32m    154\u001b[0m         \u001b[0;32mif\u001b[0m \u001b[0missubclass\u001b[0m\u001b[0;34m(\u001b[0m\u001b[0mtype\u001b[0m\u001b[0;34m(\u001b[0m\u001b[0mvalue\u001b[0m\u001b[0;34m)\u001b[0m\u001b[0;34m,\u001b[0m \u001b[0mself\u001b[0m\u001b[0;34m.\u001b[0m\u001b[0munderlying_types\u001b[0m\u001b[0;34m)\u001b[0m\u001b[0;34m:\u001b[0m\u001b[0;34m\u001b[0m\u001b[0;34m\u001b[0m\u001b[0m\n\u001b[0;32m--> 155\u001b[0;31m             \u001b[0mvalue_to_set\u001b[0m \u001b[0;34m=\u001b[0m \u001b[0mself\u001b[0m\u001b[0;34m.\u001b[0m\u001b[0m_set_elements\u001b[0m\u001b[0;34m(\u001b[0m\u001b[0mvalue\u001b[0m\u001b[0;34m)\u001b[0m\u001b[0;34m\u001b[0m\u001b[0;34m\u001b[0m\u001b[0m\n\u001b[0m\u001b[1;32m    156\u001b[0m         \u001b[0;32melse\u001b[0m\u001b[0;34m:\u001b[0m\u001b[0;34m\u001b[0m\u001b[0;34m\u001b[0m\u001b[0m\n\u001b[1;32m    157\u001b[0m             \u001b[0;31m# if value is not an underlying type, set its deserialized version.\u001b[0m\u001b[0;34m\u001b[0m\u001b[0;34m\u001b[0m\u001b[0;34m\u001b[0m\u001b[0m\n",
      "\u001b[0;32m~/Documents/citrine/citrine_python/src/citrine/_serialization/properties.py\u001b[0m in \u001b[0;36m_set_elements\u001b[0;34m(self, value)\u001b[0m\n\u001b[1;32m    445\u001b[0m                 \u001b[0mval_to_append\u001b[0m \u001b[0;34m=\u001b[0m \u001b[0msub_val\u001b[0m\u001b[0;34m\u001b[0m\u001b[0;34m\u001b[0m\u001b[0m\n\u001b[1;32m    446\u001b[0m             \u001b[0;32melse\u001b[0m\u001b[0;34m:\u001b[0m\u001b[0;34m\u001b[0m\u001b[0;34m\u001b[0m\u001b[0m\n\u001b[0;32m--> 447\u001b[0;31m                 \u001b[0mval_to_append\u001b[0m \u001b[0;34m=\u001b[0m \u001b[0mself\u001b[0m\u001b[0;34m.\u001b[0m\u001b[0melement_type\u001b[0m\u001b[0;34m.\u001b[0m\u001b[0mdeserialize\u001b[0m\u001b[0;34m(\u001b[0m\u001b[0msub_val\u001b[0m\u001b[0;34m)\u001b[0m\u001b[0;34m\u001b[0m\u001b[0;34m\u001b[0m\u001b[0m\n\u001b[0m\u001b[1;32m    448\u001b[0m             \u001b[0melems\u001b[0m\u001b[0;34m.\u001b[0m\u001b[0madd\u001b[0m\u001b[0;34m(\u001b[0m\u001b[0mval_to_append\u001b[0m\u001b[0;34m)\u001b[0m\u001b[0;34m\u001b[0m\u001b[0;34m\u001b[0m\u001b[0m\n\u001b[1;32m    449\u001b[0m         \u001b[0;32mreturn\u001b[0m \u001b[0melems\u001b[0m\u001b[0;34m\u001b[0m\u001b[0;34m\u001b[0m\u001b[0m\n",
      "\u001b[0;32m~/Documents/citrine/citrine_python/src/citrine/_serialization/properties.py\u001b[0m in \u001b[0;36mdeserialize\u001b[0;34m(self, value, base_class)\u001b[0m\n\u001b[1;32m     73\u001b[0m             raise ValueError('{} is not one of valid types: {} {}'.format(\n\u001b[1;32m     74\u001b[0m                 value, self.serialized_types, base_name))\n\u001b[0;32m---> 75\u001b[0;31m         \u001b[0;32mreturn\u001b[0m \u001b[0mself\u001b[0m\u001b[0;34m.\u001b[0m\u001b[0m_deserialize\u001b[0m\u001b[0;34m(\u001b[0m\u001b[0mvalue\u001b[0m\u001b[0;34m)\u001b[0m\u001b[0;34m\u001b[0m\u001b[0;34m\u001b[0m\u001b[0m\n\u001b[0m\u001b[1;32m     76\u001b[0m \u001b[0;34m\u001b[0m\u001b[0m\n\u001b[1;32m     77\u001b[0m     \u001b[0;34m@\u001b[0m\u001b[0mabstractmethod\u001b[0m\u001b[0;34m\u001b[0m\u001b[0;34m\u001b[0m\u001b[0m\n",
      "\u001b[0;32m~/Documents/citrine/citrine_python/src/citrine/_serialization/properties.py\u001b[0m in \u001b[0;36m_deserialize\u001b[0;34m(self, value)\u001b[0m\n\u001b[1;32m    607\u001b[0m \u001b[0;34m\u001b[0m\u001b[0m\n\u001b[1;32m    608\u001b[0m     \u001b[0;32mdef\u001b[0m \u001b[0m_deserialize\u001b[0m\u001b[0;34m(\u001b[0m\u001b[0mself\u001b[0m\u001b[0;34m,\u001b[0m \u001b[0mvalue\u001b[0m\u001b[0;34m:\u001b[0m \u001b[0mstr\u001b[0m\u001b[0;34m)\u001b[0m \u001b[0;34m->\u001b[0m \u001b[0muuid\u001b[0m\u001b[0;34m.\u001b[0m\u001b[0mUUID\u001b[0m\u001b[0;34m:\u001b[0m\u001b[0;34m\u001b[0m\u001b[0;34m\u001b[0m\u001b[0m\n\u001b[0;32m--> 609\u001b[0;31m         \u001b[0;32mreturn\u001b[0m \u001b[0mself\u001b[0m\u001b[0;34m.\u001b[0m\u001b[0mklass\u001b[0m\u001b[0;34m.\u001b[0m\u001b[0mget_enum\u001b[0m\u001b[0;34m(\u001b[0m\u001b[0mvalue\u001b[0m\u001b[0;34m)\u001b[0m\u001b[0;34m\u001b[0m\u001b[0;34m\u001b[0m\u001b[0m\n\u001b[0m\u001b[1;32m    610\u001b[0m \u001b[0;34m\u001b[0m\u001b[0m\n\u001b[1;32m    611\u001b[0m     \u001b[0;32mdef\u001b[0m \u001b[0m_serialize\u001b[0m\u001b[0;34m(\u001b[0m\u001b[0mself\u001b[0m\u001b[0;34m,\u001b[0m \u001b[0mvalue\u001b[0m\u001b[0;34m:\u001b[0m \u001b[0mtyping\u001b[0m\u001b[0;34m.\u001b[0m\u001b[0mAny\u001b[0m\u001b[0;34m)\u001b[0m \u001b[0;34m->\u001b[0m \u001b[0mstr\u001b[0m\u001b[0;34m:\u001b[0m\u001b[0;34m\u001b[0m\u001b[0;34m\u001b[0m\u001b[0m\n",
      "\u001b[0;32m~/miniconda3/envs/citrine/lib/python3.8/site-packages/gemd/enumeration/base_enumeration.py\u001b[0m in \u001b[0;36mget_enum\u001b[0;34m(cls, name)\u001b[0m\n\u001b[1;32m     44\u001b[0m         \u001b[0;32mif\u001b[0m \u001b[0many\u001b[0m\u001b[0;34m(\u001b[0m\u001b[0mname\u001b[0m \u001b[0;34m==\u001b[0m \u001b[0me\u001b[0m \u001b[0;32mfor\u001b[0m \u001b[0me\u001b[0m \u001b[0;32min\u001b[0m \u001b[0mcls\u001b[0m\u001b[0;34m)\u001b[0m\u001b[0;34m:\u001b[0m\u001b[0;34m\u001b[0m\u001b[0;34m\u001b[0m\u001b[0m\n\u001b[1;32m     45\u001b[0m             \u001b[0;32mreturn\u001b[0m \u001b[0mname\u001b[0m\u001b[0;34m\u001b[0m\u001b[0;34m\u001b[0m\u001b[0m\n\u001b[0;32m---> 46\u001b[0;31m         \u001b[0;32mraise\u001b[0m \u001b[0mValueError\u001b[0m\u001b[0;34m(\u001b[0m\u001b[0;34m\"'{}' is not a valid choice for enumeration {}\"\u001b[0m\u001b[0;34m.\u001b[0m\u001b[0mformat\u001b[0m\u001b[0;34m(\u001b[0m\u001b[0mname\u001b[0m\u001b[0;34m,\u001b[0m \u001b[0mcls\u001b[0m\u001b[0;34m)\u001b[0m\u001b[0;34m)\u001b[0m\u001b[0;34m\u001b[0m\u001b[0;34m\u001b[0m\u001b[0m\n\u001b[0m",
      "\u001b[0;31mValueError\u001b[0m: 'dogs' is not a valid choice for enumeration <enum 'AutoMLEstimator'>"
     ]
    }
   ],
   "source": [
    "ml = graph.predictors[0]\n",
    "aml.estimators = {\"dogs\"}\n",
    "\n",
    "aml.estimators"
   ]
  },
  {
   "cell_type": "code",
   "execution_count": null,
   "id": "a620e970",
   "metadata": {},
   "outputs": [],
   "source": []
  },
  {
   "cell_type": "code",
   "execution_count": 52,
   "id": "31124d51",
   "metadata": {},
   "outputs": [
    {
     "name": "stdout",
     "output_type": "stream",
     "text": [
      "None\n"
     ]
    }
   ],
   "source": [
    "graph = project.predictors.update(graph)"
   ]
  },
  {
   "cell_type": "code",
   "execution_count": 15,
   "id": "e09de17f",
   "metadata": {},
   "outputs": [
    {
     "name": "stdout",
     "output_type": "stream",
     "text": [
      "https://development.citrine-platform.com/api/v3/projects/ce47a13c-d873-452f-ac72-2ee82a29a9fa/predictors/5c2f1b8b-b107-4985-8927-51a083dd3121\n"
     ]
    },
    {
     "data": {
      "text/plain": [
       "[]"
      ]
     },
     "execution_count": 15,
     "metadata": {},
     "output_type": "execute_result"
    }
   ],
   "source": [
    "graph = project.predictors.get(graph.uid)\n",
    "\n",
    "graph.status_info"
   ]
  },
  {
   "cell_type": "code",
   "execution_count": 77,
   "id": "603ab2ff",
   "metadata": {},
   "outputs": [
    {
     "data": {
      "text/plain": [
       "{'Algorithm': 'Ensemble of non-linear estimators',\n",
       " 'Number of estimators': 64,\n",
       " 'Maximum tree depth': 30,\n",
       " 'Number of features considered at each split': 35,\n",
       " 'Uses jackknife method of uncertainty estimation': True,\n",
       " 'Leaf model': 'Mean',\n",
       " 'Minimum samples per leaf': 1}"
      ]
     },
     "execution_count": 77,
     "metadata": {},
     "output_type": "execute_result"
    }
   ],
   "source": [
    "summary = graph.report.model_summaries[0]\n",
    "summary.model_settings"
   ]
  },
  {
   "cell_type": "code",
   "execution_count": 90,
   "id": "2e3a8a31",
   "metadata": {},
   "outputs": [
    {
     "data": {
      "text/plain": [
       "0.5433535272138262"
      ]
     },
     "execution_count": 90,
     "metadata": {},
     "output_type": "execute_result"
    }
   ],
   "source": [
    "summary.selection_summary.evaluation_results[0][\"Measurement~Band gap\"].metrics[\"R^2\"].mean"
   ]
  },
  {
   "cell_type": "code",
   "execution_count": 91,
   "id": "3da73f43",
   "metadata": {},
   "outputs": [
    {
     "data": {
      "text/plain": [
       "0.5132801869612528"
      ]
     },
     "execution_count": 91,
     "metadata": {},
     "output_type": "execute_result"
    }
   ],
   "source": [
    "summary.selection_summary.evaluation_results[1][\"Measurement~Band gap\"].metrics[\"R^2\"].mean"
   ]
  },
  {
   "cell_type": "code",
   "execution_count": 92,
   "id": "ad214146",
   "metadata": {},
   "outputs": [
    {
     "data": {
      "text/plain": [
       "0.6993014513534479"
      ]
     },
     "execution_count": 92,
     "metadata": {},
     "output_type": "execute_result"
    }
   ],
   "source": [
    "summary.selection_summary.evaluation_results[2][\"Measurement~Band gap\"].metrics[\"R^2\"].mean"
   ]
  },
  {
   "cell_type": "code",
   "execution_count": null,
   "id": "d5735731",
   "metadata": {},
   "outputs": [],
   "source": []
  }
 ],
 "metadata": {
  "kernelspec": {
   "display_name": "Python 3 (ipykernel)",
   "language": "python",
   "name": "python3"
  },
  "language_info": {
   "codemirror_mode": {
    "name": "ipython",
    "version": 3
   },
   "file_extension": ".py",
   "mimetype": "text/x-python",
   "name": "python",
   "nbconvert_exporter": "python",
   "pygments_lexer": "ipython3",
   "version": "3.8.12"
  }
 },
 "nbformat": 4,
 "nbformat_minor": 5
}
