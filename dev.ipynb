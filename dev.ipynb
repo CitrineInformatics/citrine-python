{
 "cells": [
  {
   "cell_type": "markdown",
   "id": "6d4e198f",
   "metadata": {},
   "source": [
    "# Imports"
   ]
  },
  {
   "cell_type": "code",
   "execution_count": 1,
   "id": "d66e3050",
   "metadata": {},
   "outputs": [],
   "source": [
    "%load_ext autoreload\n",
    "%autoreload 2"
   ]
  },
  {
   "cell_type": "code",
   "execution_count": 2,
   "id": "059572b9",
   "metadata": {},
   "outputs": [],
   "source": [
    "import os\n",
    "\n",
    "import citrine\n",
    "from citrine import Citrine"
   ]
  },
  {
   "cell_type": "markdown",
   "id": "45c9ef41",
   "metadata": {},
   "source": [
    "# Testing"
   ]
  },
  {
   "cell_type": "code",
   "execution_count": 93,
   "id": "ea5bfa34",
   "metadata": {},
   "outputs": [
    {
     "name": "stderr",
     "output_type": "stream",
     "text": [
      "/Users/sfriedowitz/Documents/citrine/citrine_python/src/citrine/citrine.py:67: UserWarning: Your Citrine Platform deployment has migrated to include the Teams release.See our FAQ for details.\n",
      "  warn(\"Your Citrine Platform deployment has migrated to include the Teams release.\"\n"
     ]
    },
    {
     "data": {
      "text/plain": [
       "'[PRELOAD] Seeding Project v33'"
      ]
     },
     "execution_count": 93,
     "metadata": {},
     "output_type": "execute_result"
    }
   ],
   "source": [
    "client = Citrine(host=os.environ[\"CITRINE_DEV_HOST\"], api_key=os.environ[\"CITRINE_DEV_API_KEY\"])\n",
    "\n",
    "project = client.projects.get(\"ce47a13c-d873-452f-ac72-2ee82a29a9fa\")\n",
    "project.name"
   ]
  },
  {
   "cell_type": "code",
   "execution_count": 40,
   "id": "1268c2bd",
   "metadata": {},
   "outputs": [],
   "source": [
    "from citrine.informatics.predictors import *"
   ]
  },
  {
   "cell_type": "code",
   "execution_count": 57,
   "id": "9277dc39",
   "metadata": {},
   "outputs": [],
   "source": [
    "graph = project.predictors.get(\"5c2f1b8b-b107-4985-8927-51a083dd3121\")"
   ]
  },
  {
   "cell_type": "code",
   "execution_count": 59,
   "id": "1c14bb7d",
   "metadata": {},
   "outputs": [
    {
     "data": {
      "text/plain": [
       "{<AutoMLEstimator.LINEAR: 'LINEAR'>,\n",
       " <AutoMLEstimator.RANDOM_FOREST: 'RANDOM_FOREST'>}"
      ]
     },
     "execution_count": 59,
     "metadata": {},
     "output_type": "execute_result"
    }
   ],
   "source": [
    "aml = graph.predictors[0]\n",
    "aml.estimators = {AutoMLEstimator.RANDOM_FOREST, AutoMLEstimator.LINEAR}\n",
    "\n",
    "aml.estimators"
   ]
  },
  {
   "cell_type": "code",
   "execution_count": 60,
   "id": "31124d51",
   "metadata": {},
   "outputs": [],
   "source": [
    "graph = project.predictors.update(graph)"
   ]
  },
  {
   "cell_type": "code",
   "execution_count": 62,
   "id": "e09de17f",
   "metadata": {},
   "outputs": [
    {
     "data": {
      "text/plain": [
       "['All chemical formula features were recognized.',\n",
       " 'All chemical formula feature exclusions were recognized.',\n",
       " 'Predictor contains 128 training data points, which is within the limit of 3000.']"
      ]
     },
     "execution_count": 62,
     "metadata": {},
     "output_type": "execute_result"
    }
   ],
   "source": [
    "graph = project.predictors.get(graph.uid)\n",
    "\n",
    "graph.status_info"
   ]
  },
  {
   "cell_type": "code",
   "execution_count": 77,
   "id": "bd489529",
   "metadata": {},
   "outputs": [
    {
     "data": {
      "text/plain": [
       "{'Algorithm': 'Ensemble of non-linear estimators',\n",
       " 'Number of estimators': 64,\n",
       " 'Maximum tree depth': 30,\n",
       " 'Number of features considered at each split': 35,\n",
       " 'Uses jackknife method of uncertainty estimation': True,\n",
       " 'Leaf model': 'Mean',\n",
       " 'Minimum samples per leaf': 1}"
      ]
     },
     "execution_count": 77,
     "metadata": {},
     "output_type": "execute_result"
    }
   ],
   "source": [
    "summary = graph.report.model_summaries[0]\n",
    "summary.model_settings"
   ]
  },
  {
   "cell_type": "code",
   "execution_count": 90,
   "id": "7c1a988a",
   "metadata": {},
   "outputs": [
    {
     "data": {
      "text/plain": [
       "0.5433535272138262"
      ]
     },
     "execution_count": 90,
     "metadata": {},
     "output_type": "execute_result"
    }
   ],
   "source": [
    "summary.selection_summary.evaluation_results[0][\"Measurement~Band gap\"].metrics[\"R^2\"].mean"
   ]
  },
  {
   "cell_type": "code",
   "execution_count": 91,
   "id": "3da73f43",
   "metadata": {},
   "outputs": [
    {
     "data": {
      "text/plain": [
       "0.5132801869612528"
      ]
     },
     "execution_count": 91,
     "metadata": {},
     "output_type": "execute_result"
    }
   ],
   "source": [
    "summary.selection_summary.evaluation_results[1][\"Measurement~Band gap\"].metrics[\"R^2\"].mean"
   ]
  },
  {
   "cell_type": "code",
   "execution_count": 92,
   "id": "f749fbf1",
   "metadata": {},
   "outputs": [
    {
     "data": {
      "text/plain": [
       "0.6993014513534479"
      ]
     },
     "execution_count": 92,
     "metadata": {},
     "output_type": "execute_result"
    }
   ],
   "source": [
    "summary.selection_summary.evaluation_results[2][\"Measurement~Band gap\"].metrics[\"R^2\"].mean"
   ]
  },
  {
   "cell_type": "code",
   "execution_count": null,
   "id": "38c5f349",
   "metadata": {},
   "outputs": [],
   "source": []
  }
 ],
 "metadata": {
  "kernelspec": {
   "display_name": "Python 3 (ipykernel)",
   "language": "python",
   "name": "python3"
  },
  "language_info": {
   "codemirror_mode": {
    "name": "ipython",
    "version": 3
   },
   "file_extension": ".py",
   "mimetype": "text/x-python",
   "name": "python",
   "nbconvert_exporter": "python",
   "pygments_lexer": "ipython3",
   "version": "3.8.12"
  }
 },
 "nbformat": 4,
 "nbformat_minor": 5
}
